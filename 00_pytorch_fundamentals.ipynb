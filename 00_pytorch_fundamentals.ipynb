{
  "nbformat": 4,
  "nbformat_minor": 0,
  "metadata": {
    "colab": {
      "provenance": [],
      "toc_visible": true,
      "gpuType": "T4",
      "include_colab_link": true
    },
    "kernelspec": {
      "name": "python3",
      "display_name": "Python 3"
    },
    "language_info": {
      "name": "python"
    },
    "accelerator": "GPU"
  },
  "cells": [
    {
      "cell_type": "markdown",
      "metadata": {
        "id": "view-in-github",
        "colab_type": "text"
      },
      "source": [
        "<a href=\"https://colab.research.google.com/github/Shiva007-RAndom/Task-1/blob/main/00_pytorch_fundamentals.ipynb\" target=\"_parent\"><img src=\"https://colab.research.google.com/assets/colab-badge.svg\" alt=\"Open In Colab\"/></a>"
      ]
    },
    {
      "cell_type": "markdown",
      "source": [
        "#PyTorch Fundamentals"
      ],
      "metadata": {
        "id": "Lh6BrgJUm2C2"
      }
    },
    {
      "cell_type": "code",
      "source": [
        "import torch\n",
        "import pandas as pd\n",
        "import numpy as np\n",
        "import matplotlib.pyplot as plt\n",
        "print(torch.__version__)"
      ],
      "metadata": {
        "colab": {
          "base_uri": "https://localhost:8080/"
        },
        "id": "igW9J8VYnRsp",
        "outputId": "bae9c2ee-0da5-4faa-c59c-e674d01af8b8"
      },
      "execution_count": 1,
      "outputs": [
        {
          "output_type": "stream",
          "name": "stdout",
          "text": [
            "2.6.0+cu124\n"
          ]
        }
      ]
    },
    {
      "cell_type": "markdown",
      "source": [
        "##Introduction to tensors"
      ],
      "metadata": {
        "id": "I2PIzh9VnoZP"
      }
    },
    {
      "cell_type": "markdown",
      "source": [
        "###Creating tensors"
      ],
      "metadata": {
        "id": "oOhRjkLPn6XO"
      }
    },
    {
      "cell_type": "code",
      "source": [
        "#scalars\n",
        "scalar=torch.tensor(7)\n",
        "scalar"
      ],
      "metadata": {
        "colab": {
          "base_uri": "https://localhost:8080/"
        },
        "id": "IAzV7NkWn-SE",
        "outputId": "7c4b9da0-2d1a-404c-e978-03fc6bd116c4"
      },
      "execution_count": 2,
      "outputs": [
        {
          "output_type": "execute_result",
          "data": {
            "text/plain": [
              "tensor(7)"
            ]
          },
          "metadata": {},
          "execution_count": 2
        }
      ]
    },
    {
      "cell_type": "code",
      "source": [
        "scalar.ndim"
      ],
      "metadata": {
        "colab": {
          "base_uri": "https://localhost:8080/"
        },
        "id": "cm-Z9Y1-oBRG",
        "outputId": "aa3ae056-21f7-447b-d36b-7f721761bc0d"
      },
      "execution_count": 3,
      "outputs": [
        {
          "output_type": "execute_result",
          "data": {
            "text/plain": [
              "0"
            ]
          },
          "metadata": {},
          "execution_count": 3
        }
      ]
    },
    {
      "cell_type": "code",
      "source": [
        "#vector\n",
        "vector=torch.tensor([7,7])\n",
        "vector"
      ],
      "metadata": {
        "colab": {
          "base_uri": "https://localhost:8080/"
        },
        "id": "Z2fuYVAqoISv",
        "outputId": "57dbfdd9-d870-48b7-824f-eafa7fa1284f"
      },
      "execution_count": 4,
      "outputs": [
        {
          "output_type": "execute_result",
          "data": {
            "text/plain": [
              "tensor([7, 7])"
            ]
          },
          "metadata": {},
          "execution_count": 4
        }
      ]
    },
    {
      "cell_type": "code",
      "source": [
        "vector.ndim"
      ],
      "metadata": {
        "colab": {
          "base_uri": "https://localhost:8080/"
        },
        "id": "3V98-9IzoeIT",
        "outputId": "c5870e27-8e30-4f4e-fbf8-b2801cde1861"
      },
      "execution_count": 5,
      "outputs": [
        {
          "output_type": "execute_result",
          "data": {
            "text/plain": [
              "1"
            ]
          },
          "metadata": {},
          "execution_count": 5
        }
      ]
    },
    {
      "cell_type": "code",
      "source": [
        "vector.shape"
      ],
      "metadata": {
        "colab": {
          "base_uri": "https://localhost:8080/"
        },
        "id": "jjv_qzBSogSD",
        "outputId": "2b55e388-4a10-4bc5-ff60-1a89d5d53883"
      },
      "execution_count": 6,
      "outputs": [
        {
          "output_type": "execute_result",
          "data": {
            "text/plain": [
              "torch.Size([2])"
            ]
          },
          "metadata": {},
          "execution_count": 6
        }
      ]
    },
    {
      "cell_type": "code",
      "source": [
        "#matrix\n",
        "matrix=torch.tensor([[1,2],\n",
        "                    [5,6]])\n",
        "matrix"
      ],
      "metadata": {
        "colab": {
          "base_uri": "https://localhost:8080/"
        },
        "id": "yMp1CIurohJ1",
        "outputId": "90c65c0a-cdf5-4268-fe0a-b6af674aa8dc"
      },
      "execution_count": 7,
      "outputs": [
        {
          "output_type": "execute_result",
          "data": {
            "text/plain": [
              "tensor([[1, 2],\n",
              "        [5, 6]])"
            ]
          },
          "metadata": {},
          "execution_count": 7
        }
      ]
    },
    {
      "cell_type": "code",
      "source": [
        "matrix.ndim"
      ],
      "metadata": {
        "colab": {
          "base_uri": "https://localhost:8080/"
        },
        "id": "DEk-EPCTopxn",
        "outputId": "c742fb2d-2d81-482f-9989-ec57bf9ae045"
      },
      "execution_count": 8,
      "outputs": [
        {
          "output_type": "execute_result",
          "data": {
            "text/plain": [
              "2"
            ]
          },
          "metadata": {},
          "execution_count": 8
        }
      ]
    },
    {
      "cell_type": "code",
      "source": [
        "matrix.shape"
      ],
      "metadata": {
        "colab": {
          "base_uri": "https://localhost:8080/"
        },
        "id": "bBbtjHOfotLY",
        "outputId": "c30e093a-fa4b-4058-d805-2a1eb82b8f46"
      },
      "execution_count": 9,
      "outputs": [
        {
          "output_type": "execute_result",
          "data": {
            "text/plain": [
              "torch.Size([2, 2])"
            ]
          },
          "metadata": {},
          "execution_count": 9
        }
      ]
    },
    {
      "cell_type": "code",
      "source": [
        "#tensor\n",
        "tensor=torch.tensor([[[1,2,3],\n",
        "                      [4,5,6],\n",
        "                      [7,8,9]]])\n",
        "tensor"
      ],
      "metadata": {
        "colab": {
          "base_uri": "https://localhost:8080/"
        },
        "id": "zwPSRdPyouQS",
        "outputId": "78b026a2-dd71-4069-fc64-52c3879e8ecd"
      },
      "execution_count": 10,
      "outputs": [
        {
          "output_type": "execute_result",
          "data": {
            "text/plain": [
              "tensor([[[1, 2, 3],\n",
              "         [4, 5, 6],\n",
              "         [7, 8, 9]]])"
            ]
          },
          "metadata": {},
          "execution_count": 10
        }
      ]
    },
    {
      "cell_type": "code",
      "source": [
        "tensor.ndim"
      ],
      "metadata": {
        "colab": {
          "base_uri": "https://localhost:8080/"
        },
        "id": "_tkuSmEAo84w",
        "outputId": "80bd2525-6aed-45d9-ca5e-27b15f8b83c6"
      },
      "execution_count": 11,
      "outputs": [
        {
          "output_type": "execute_result",
          "data": {
            "text/plain": [
              "3"
            ]
          },
          "metadata": {},
          "execution_count": 11
        }
      ]
    },
    {
      "cell_type": "code",
      "source": [
        "tensor.shape"
      ],
      "metadata": {
        "colab": {
          "base_uri": "https://localhost:8080/"
        },
        "id": "lCQopcv4o90a",
        "outputId": "110e138a-3872-45ca-a748-ef7ea745d7cc"
      },
      "execution_count": 12,
      "outputs": [
        {
          "output_type": "execute_result",
          "data": {
            "text/plain": [
              "torch.Size([1, 3, 3])"
            ]
          },
          "metadata": {},
          "execution_count": 12
        }
      ]
    },
    {
      "cell_type": "code",
      "source": [
        "tensor[0]"
      ],
      "metadata": {
        "colab": {
          "base_uri": "https://localhost:8080/"
        },
        "id": "ADpLv-wBo-3G",
        "outputId": "e6d19279-e871-43a9-9b75-dcfac3f8fabd"
      },
      "execution_count": 13,
      "outputs": [
        {
          "output_type": "execute_result",
          "data": {
            "text/plain": [
              "tensor([[1, 2, 3],\n",
              "        [4, 5, 6],\n",
              "        [7, 8, 9]])"
            ]
          },
          "metadata": {},
          "execution_count": 13
        }
      ]
    },
    {
      "cell_type": "code",
      "source": [
        "tensor[0][2][1]"
      ],
      "metadata": {
        "colab": {
          "base_uri": "https://localhost:8080/"
        },
        "id": "AocHWusepPLH",
        "outputId": "ae8a2bfa-b734-409f-be0f-ecb1b563e37d"
      },
      "execution_count": 14,
      "outputs": [
        {
          "output_type": "execute_result",
          "data": {
            "text/plain": [
              "tensor(8)"
            ]
          },
          "metadata": {},
          "execution_count": 14
        }
      ]
    },
    {
      "cell_type": "markdown",
      "source": [
        "###Random Tensors"
      ],
      "metadata": {
        "id": "rR9aiNhVpQFr"
      }
    },
    {
      "cell_type": "code",
      "source": [
        "#creating a random tensor\n",
        "random_tensor=torch.rand(3,4)\n",
        "random_tensor"
      ],
      "metadata": {
        "colab": {
          "base_uri": "https://localhost:8080/"
        },
        "id": "x-g7WC-kphlm",
        "outputId": "2ded8bbb-65ba-4b3f-cc75-4296eb1ddb64"
      },
      "execution_count": 15,
      "outputs": [
        {
          "output_type": "execute_result",
          "data": {
            "text/plain": [
              "tensor([[0.8714, 0.1033, 0.1660, 0.8212],\n",
              "        [0.8155, 0.0760, 0.3851, 0.4381],\n",
              "        [0.4323, 0.1415, 0.0823, 0.5453]])"
            ]
          },
          "metadata": {},
          "execution_count": 15
        }
      ]
    },
    {
      "cell_type": "code",
      "source": [
        "random_tensor.ndim"
      ],
      "metadata": {
        "colab": {
          "base_uri": "https://localhost:8080/"
        },
        "id": "3mzydnwZp42R",
        "outputId": "1e8bb6d9-62ae-4556-a09b-4f559110dc27"
      },
      "execution_count": 16,
      "outputs": [
        {
          "output_type": "execute_result",
          "data": {
            "text/plain": [
              "2"
            ]
          },
          "metadata": {},
          "execution_count": 16
        }
      ]
    },
    {
      "cell_type": "code",
      "source": [
        "random_tensor=torch.rand(1,3,5)\n",
        "random_tensor"
      ],
      "metadata": {
        "colab": {
          "base_uri": "https://localhost:8080/"
        },
        "id": "PfBT9oiGp6bj",
        "outputId": "2eefa925-010a-4a31-fa64-fc9449869096"
      },
      "execution_count": 17,
      "outputs": [
        {
          "output_type": "execute_result",
          "data": {
            "text/plain": [
              "tensor([[[0.0532, 0.5281, 0.7011, 0.3340, 0.8278],\n",
              "         [0.3539, 0.4758, 0.4354, 0.8107, 0.5899],\n",
              "         [0.7839, 0.2047, 0.4302, 0.0295, 0.9968]]])"
            ]
          },
          "metadata": {},
          "execution_count": 17
        }
      ]
    },
    {
      "cell_type": "code",
      "source": [
        "random_tensor.ndim,random_tensor.shape"
      ],
      "metadata": {
        "colab": {
          "base_uri": "https://localhost:8080/"
        },
        "id": "uar1SPFDp-W8",
        "outputId": "942ac5e5-c8ca-45ec-b28c-d5fdcd2b6c7e"
      },
      "execution_count": 18,
      "outputs": [
        {
          "output_type": "execute_result",
          "data": {
            "text/plain": [
              "(3, torch.Size([1, 3, 5]))"
            ]
          },
          "metadata": {},
          "execution_count": 18
        }
      ]
    },
    {
      "cell_type": "code",
      "source": [
        "zero=torch.zeros(1,2,3)\n",
        "zero"
      ],
      "metadata": {
        "colab": {
          "base_uri": "https://localhost:8080/"
        },
        "id": "_Vv56K_3qCwU",
        "outputId": "9e0820ab-dd10-4ac6-88e8-feb2137bad6a"
      },
      "execution_count": 19,
      "outputs": [
        {
          "output_type": "execute_result",
          "data": {
            "text/plain": [
              "tensor([[[0., 0., 0.],\n",
              "         [0., 0., 0.]]])"
            ]
          },
          "metadata": {},
          "execution_count": 19
        }
      ]
    },
    {
      "cell_type": "code",
      "source": [
        "ones=torch.ones(5,6)\n",
        "ones"
      ],
      "metadata": {
        "colab": {
          "base_uri": "https://localhost:8080/"
        },
        "id": "z5yP64OvqmRW",
        "outputId": "4ea682ff-215c-49b2-a943-e96d09c8c004"
      },
      "execution_count": 20,
      "outputs": [
        {
          "output_type": "execute_result",
          "data": {
            "text/plain": [
              "tensor([[1., 1., 1., 1., 1., 1.],\n",
              "        [1., 1., 1., 1., 1., 1.],\n",
              "        [1., 1., 1., 1., 1., 1.],\n",
              "        [1., 1., 1., 1., 1., 1.],\n",
              "        [1., 1., 1., 1., 1., 1.]])"
            ]
          },
          "metadata": {},
          "execution_count": 20
        }
      ]
    },
    {
      "cell_type": "code",
      "source": [
        "ones.dtype"
      ],
      "metadata": {
        "colab": {
          "base_uri": "https://localhost:8080/"
        },
        "id": "gl5URPqkqqSn",
        "outputId": "6ed35e1b-46ac-49fc-bd3b-00779a16802c"
      },
      "execution_count": 21,
      "outputs": [
        {
          "output_type": "execute_result",
          "data": {
            "text/plain": [
              "torch.float32"
            ]
          },
          "metadata": {},
          "execution_count": 21
        }
      ]
    },
    {
      "cell_type": "code",
      "source": [
        "#creating a tensor with range\n",
        "range_tensor=torch.arange(start=0,end=1000,step=15)\n",
        "range_tensor"
      ],
      "metadata": {
        "colab": {
          "base_uri": "https://localhost:8080/"
        },
        "id": "qxO1tIRgqtEk",
        "outputId": "28da057d-ab7e-40dd-f5c1-0c154bf03579"
      },
      "execution_count": 22,
      "outputs": [
        {
          "output_type": "execute_result",
          "data": {
            "text/plain": [
              "tensor([  0,  15,  30,  45,  60,  75,  90, 105, 120, 135, 150, 165, 180, 195,\n",
              "        210, 225, 240, 255, 270, 285, 300, 315, 330, 345, 360, 375, 390, 405,\n",
              "        420, 435, 450, 465, 480, 495, 510, 525, 540, 555, 570, 585, 600, 615,\n",
              "        630, 645, 660, 675, 690, 705, 720, 735, 750, 765, 780, 795, 810, 825,\n",
              "        840, 855, 870, 885, 900, 915, 930, 945, 960, 975, 990])"
            ]
          },
          "metadata": {},
          "execution_count": 22
        }
      ]
    },
    {
      "cell_type": "code",
      "source": [
        "#to create tensors with similar shape to another tensor\n",
        "zeros_like=torch.zeros_like(input=range_tensor)\n",
        "zeros_like"
      ],
      "metadata": {
        "colab": {
          "base_uri": "https://localhost:8080/"
        },
        "id": "45MDTcjMq1Re",
        "outputId": "f735cb32-7162-4015-f249-8afb626daaf0"
      },
      "execution_count": 23,
      "outputs": [
        {
          "output_type": "execute_result",
          "data": {
            "text/plain": [
              "tensor([0, 0, 0, 0, 0, 0, 0, 0, 0, 0, 0, 0, 0, 0, 0, 0, 0, 0, 0, 0, 0, 0, 0, 0,\n",
              "        0, 0, 0, 0, 0, 0, 0, 0, 0, 0, 0, 0, 0, 0, 0, 0, 0, 0, 0, 0, 0, 0, 0, 0,\n",
              "        0, 0, 0, 0, 0, 0, 0, 0, 0, 0, 0, 0, 0, 0, 0, 0, 0, 0, 0])"
            ]
          },
          "metadata": {},
          "execution_count": 23
        }
      ]
    },
    {
      "cell_type": "markdown",
      "source": [
        "###Tensor Datatypes"
      ],
      "metadata": {
        "id": "q8ykhnTmrrO6"
      }
    },
    {
      "cell_type": "code",
      "source": [
        "float_16_tensor=torch.tensor([[9,8,7],\n",
        "                              [6,7,8]],\n",
        "                             dtype=torch.float16)\n",
        "float_16_tensor"
      ],
      "metadata": {
        "colab": {
          "base_uri": "https://localhost:8080/"
        },
        "id": "__y2qoVBr-u6",
        "outputId": "95b9bd1c-3bd6-4e6d-f73b-3a53165f32ba"
      },
      "execution_count": 24,
      "outputs": [
        {
          "output_type": "execute_result",
          "data": {
            "text/plain": [
              "tensor([[9., 8., 7.],\n",
              "        [6., 7., 8.]], dtype=torch.float16)"
            ]
          },
          "metadata": {},
          "execution_count": 24
        }
      ]
    },
    {
      "cell_type": "code",
      "source": [
        "torch.tensor([1,2,3],\n",
        "             dtype=None, #to edit the datatype of the tensor\n",
        "             device=None, #what device the tensor is on\n",
        "             requires_grad=False) #whether or not to track the gradients"
      ],
      "metadata": {
        "colab": {
          "base_uri": "https://localhost:8080/"
        },
        "id": "8MrGxea_sOV-",
        "outputId": "7b5fda0e-6807-429f-d18c-6059867b13f0"
      },
      "execution_count": 25,
      "outputs": [
        {
          "output_type": "execute_result",
          "data": {
            "text/plain": [
              "tensor([1, 2, 3])"
            ]
          },
          "metadata": {},
          "execution_count": 25
        }
      ]
    },
    {
      "cell_type": "code",
      "source": [
        "float_64_tensor=float_16_tensor.type(torch.float64)\n",
        "float_64_tensor"
      ],
      "metadata": {
        "colab": {
          "base_uri": "https://localhost:8080/"
        },
        "id": "vgiuNDu_tEwn",
        "outputId": "a8b8ff85-dfcf-4a2a-b93b-cc2b32d689a9"
      },
      "execution_count": 26,
      "outputs": [
        {
          "output_type": "execute_result",
          "data": {
            "text/plain": [
              "tensor([[9., 8., 7.],\n",
              "        [6., 7., 8.]], dtype=torch.float64)"
            ]
          },
          "metadata": {},
          "execution_count": 26
        }
      ]
    },
    {
      "cell_type": "code",
      "source": [
        "float_16_tensor*float_64_tensor"
      ],
      "metadata": {
        "colab": {
          "base_uri": "https://localhost:8080/"
        },
        "id": "9fOIyt9dtSUN",
        "outputId": "95865561-4ee2-4432-8c7d-ed30e50a1bbf"
      },
      "execution_count": 27,
      "outputs": [
        {
          "output_type": "execute_result",
          "data": {
            "text/plain": [
              "tensor([[81., 64., 49.],\n",
              "        [36., 49., 64.]], dtype=torch.float64)"
            ]
          },
          "metadata": {},
          "execution_count": 27
        }
      ]
    },
    {
      "cell_type": "code",
      "source": [
        "int_32_tensor=torch.tensor([3,6,9],dtype=torch.int32)\n",
        "int_32_tensor"
      ],
      "metadata": {
        "colab": {
          "base_uri": "https://localhost:8080/"
        },
        "id": "rbyNxc8RtfF6",
        "outputId": "5b842aa0-d917-4c1d-a3dd-4e33c40d3a43"
      },
      "execution_count": 28,
      "outputs": [
        {
          "output_type": "execute_result",
          "data": {
            "text/plain": [
              "tensor([3, 6, 9], dtype=torch.int32)"
            ]
          },
          "metadata": {},
          "execution_count": 28
        }
      ]
    },
    {
      "cell_type": "code",
      "source": [
        "float_16_tensor*int_32_tensor"
      ],
      "metadata": {
        "colab": {
          "base_uri": "https://localhost:8080/"
        },
        "id": "-EY3wEAEtqlv",
        "outputId": "56d82b95-5324-4552-8cc6-0a8e5f816edc"
      },
      "execution_count": 29,
      "outputs": [
        {
          "output_type": "execute_result",
          "data": {
            "text/plain": [
              "tensor([[27., 48., 63.],\n",
              "        [18., 42., 72.]], dtype=torch.float16)"
            ]
          },
          "metadata": {},
          "execution_count": 29
        }
      ]
    },
    {
      "cell_type": "markdown",
      "source": [
        "###Getting attributes from tensor\n",
        "\n",
        "1. Getting datatype- use tensor.dtype\n",
        "2. Getting shape   - use tensor.shape\n",
        "3. Getting device  - use tensor.device"
      ],
      "metadata": {
        "id": "dX0MHxSMtxSp"
      }
    },
    {
      "cell_type": "code",
      "source": [
        "tensor_random=torch.rand(3,4,5)\n",
        "tensor_random"
      ],
      "metadata": {
        "colab": {
          "base_uri": "https://localhost:8080/"
        },
        "id": "hmXIIRANt_NX",
        "outputId": "7ed260f0-6801-4973-a26d-46f25901c138"
      },
      "execution_count": 30,
      "outputs": [
        {
          "output_type": "execute_result",
          "data": {
            "text/plain": [
              "tensor([[[0.2897, 0.7922, 0.3203, 0.6519, 0.1016],\n",
              "         [0.3552, 0.8777, 0.8028, 0.9625, 0.9774],\n",
              "         [0.7261, 0.9944, 0.2652, 0.0978, 0.6294],\n",
              "         [0.0730, 0.5775, 0.8710, 0.1962, 0.9445]],\n",
              "\n",
              "        [[0.8754, 0.3111, 0.6939, 0.4581, 0.3957],\n",
              "         [0.9428, 0.5059, 0.4212, 0.8940, 0.4388],\n",
              "         [0.2418, 0.8101, 0.1487, 0.3237, 0.3027],\n",
              "         [0.6210, 0.3296, 0.9354, 0.3256, 0.8966]],\n",
              "\n",
              "        [[0.2285, 0.0176, 0.8536, 0.7294, 0.6726],\n",
              "         [0.9433, 0.4353, 0.7598, 0.1301, 0.8676],\n",
              "         [0.1652, 0.4943, 0.3646, 0.7752, 0.2790],\n",
              "         [0.2165, 0.1923, 0.8056, 0.9025, 0.2339]]])"
            ]
          },
          "metadata": {},
          "execution_count": 30
        }
      ]
    },
    {
      "cell_type": "code",
      "source": [
        "tensor_random.shape,tensor_random.dtype,tensor_random.device"
      ],
      "metadata": {
        "colab": {
          "base_uri": "https://localhost:8080/"
        },
        "id": "1mjXzBsauE05",
        "outputId": "672dc041-ee9c-4050-9252-2ffa036f6271"
      },
      "execution_count": 31,
      "outputs": [
        {
          "output_type": "execute_result",
          "data": {
            "text/plain": [
              "(torch.Size([3, 4, 5]), torch.float32, device(type='cpu'))"
            ]
          },
          "metadata": {},
          "execution_count": 31
        }
      ]
    },
    {
      "cell_type": "code",
      "source": [
        "int_32_tensor.shape,int_32_tensor.dtype,int_32_tensor.device"
      ],
      "metadata": {
        "colab": {
          "base_uri": "https://localhost:8080/"
        },
        "id": "9QO8aEKKuOwG",
        "outputId": "ff010f41-a6c0-4286-cb4a-8a099879664a"
      },
      "execution_count": 32,
      "outputs": [
        {
          "output_type": "execute_result",
          "data": {
            "text/plain": [
              "(torch.Size([3]), torch.int32, device(type='cpu'))"
            ]
          },
          "metadata": {},
          "execution_count": 32
        }
      ]
    },
    {
      "cell_type": "markdown",
      "source": [
        "###Tensor Operations\n",
        "\n",
        "1. Addition\n",
        "2. Subtraction\n",
        "3. Multiplication\n",
        "4. division\n",
        "5. Matrix Multiplication"
      ],
      "metadata": {
        "id": "XbNItdE5uY3e"
      }
    },
    {
      "cell_type": "code",
      "source": [
        "#addition\n",
        "tensor_random+10"
      ],
      "metadata": {
        "colab": {
          "base_uri": "https://localhost:8080/"
        },
        "id": "VjfVSd-9uqD4",
        "outputId": "e052d646-ec43-4227-feac-2706d5d9b0b9"
      },
      "execution_count": 33,
      "outputs": [
        {
          "output_type": "execute_result",
          "data": {
            "text/plain": [
              "tensor([[[10.2897, 10.7922, 10.3203, 10.6519, 10.1016],\n",
              "         [10.3552, 10.8777, 10.8028, 10.9625, 10.9774],\n",
              "         [10.7261, 10.9944, 10.2652, 10.0978, 10.6294],\n",
              "         [10.0730, 10.5775, 10.8710, 10.1962, 10.9445]],\n",
              "\n",
              "        [[10.8754, 10.3111, 10.6939, 10.4581, 10.3957],\n",
              "         [10.9428, 10.5059, 10.4212, 10.8940, 10.4388],\n",
              "         [10.2418, 10.8101, 10.1487, 10.3237, 10.3027],\n",
              "         [10.6210, 10.3296, 10.9354, 10.3256, 10.8966]],\n",
              "\n",
              "        [[10.2285, 10.0176, 10.8536, 10.7294, 10.6726],\n",
              "         [10.9433, 10.4353, 10.7598, 10.1301, 10.8676],\n",
              "         [10.1652, 10.4943, 10.3646, 10.7752, 10.2790],\n",
              "         [10.2165, 10.1923, 10.8056, 10.9025, 10.2339]]])"
            ]
          },
          "metadata": {},
          "execution_count": 33
        }
      ]
    },
    {
      "cell_type": "code",
      "source": [
        "#multiplication\n",
        "tensor_random*21"
      ],
      "metadata": {
        "colab": {
          "base_uri": "https://localhost:8080/"
        },
        "id": "GQorhk6putIA",
        "outputId": "35659cea-4c33-4f9a-f4c6-82d3a1095426"
      },
      "execution_count": 34,
      "outputs": [
        {
          "output_type": "execute_result",
          "data": {
            "text/plain": [
              "tensor([[[ 6.0839, 16.6357,  6.7266, 13.6899,  2.1346],\n",
              "         [ 7.4587, 18.4326, 16.8579, 20.2117, 20.5256],\n",
              "         [15.2490, 20.8820,  5.5684,  2.0540, 13.2167],\n",
              "         [ 1.5323, 12.1283, 18.2907,  4.1209, 19.8351]],\n",
              "\n",
              "        [[18.3827,  6.5327, 14.5723,  9.6197,  8.3105],\n",
              "         [19.7993, 10.6232,  8.8454, 18.7749,  9.2156],\n",
              "         [ 5.0779, 17.0111,  3.1219,  6.7976,  6.3565],\n",
              "         [13.0413,  6.9222, 19.6425,  6.8368, 18.8296]],\n",
              "\n",
              "        [[ 4.7987,  0.3687, 17.9254, 15.3180, 14.1255],\n",
              "         [19.8099,  9.1415, 15.9549,  2.7318, 18.2202],\n",
              "         [ 3.4689, 10.3807,  7.6560, 16.2783,  5.8600],\n",
              "         [ 4.5468,  4.0375, 16.9175, 18.9531,  4.9128]]])"
            ]
          },
          "metadata": {},
          "execution_count": 34
        }
      ]
    },
    {
      "cell_type": "code",
      "source": [
        "#subtraction\n",
        "tensor_random-9"
      ],
      "metadata": {
        "colab": {
          "base_uri": "https://localhost:8080/"
        },
        "id": "XhtkYsvquwdS",
        "outputId": "bbfba2db-4ac3-42cd-b7dc-f541aa594e3f"
      },
      "execution_count": 35,
      "outputs": [
        {
          "output_type": "execute_result",
          "data": {
            "text/plain": [
              "tensor([[[-8.7103, -8.2078, -8.6797, -8.3481, -8.8984],\n",
              "         [-8.6448, -8.1223, -8.1972, -8.0375, -8.0226],\n",
              "         [-8.2739, -8.0056, -8.7348, -8.9022, -8.3706],\n",
              "         [-8.9270, -8.4225, -8.1290, -8.8038, -8.0555]],\n",
              "\n",
              "        [[-8.1246, -8.6889, -8.3061, -8.5419, -8.6043],\n",
              "         [-8.0572, -8.4941, -8.5788, -8.1060, -8.5612],\n",
              "         [-8.7582, -8.1899, -8.8513, -8.6763, -8.6973],\n",
              "         [-8.3790, -8.6704, -8.0646, -8.6744, -8.1034]],\n",
              "\n",
              "        [[-8.7715, -8.9824, -8.1464, -8.2706, -8.3274],\n",
              "         [-8.0567, -8.5647, -8.2402, -8.8699, -8.1324],\n",
              "         [-8.8348, -8.5057, -8.6354, -8.2248, -8.7210],\n",
              "         [-8.7835, -8.8077, -8.1944, -8.0975, -8.7661]]])"
            ]
          },
          "metadata": {},
          "execution_count": 35
        }
      ]
    },
    {
      "cell_type": "code",
      "source": [
        "#functions\n",
        "tensor=torch.mul(tensor_random,10)\n",
        "print(f\"Multiplying 10 : {tensor}\")\n",
        "tensor=torch.add(tensor_random,10)\n",
        "print(f\"Adding 10 : {tensor}\")"
      ],
      "metadata": {
        "colab": {
          "base_uri": "https://localhost:8080/"
        },
        "id": "R9EQCIACuyy8",
        "outputId": "0a2ffc22-a0a1-4eee-fb76-fdc5803b2693"
      },
      "execution_count": 36,
      "outputs": [
        {
          "output_type": "stream",
          "name": "stdout",
          "text": [
            "Multiplying 10 : tensor([[[2.8971, 7.9217, 3.2031, 6.5190, 1.0165],\n",
            "         [3.5518, 8.7774, 8.0276, 9.6246, 9.7741],\n",
            "         [7.2614, 9.9438, 2.6516, 0.9781, 6.2937],\n",
            "         [0.7297, 5.7754, 8.7098, 1.9623, 9.4453]],\n",
            "\n",
            "        [[8.7536, 3.1108, 6.9392, 4.5808, 3.9574],\n",
            "         [9.4283, 5.0587, 4.2121, 8.9404, 4.3884],\n",
            "         [2.4180, 8.1005, 1.4866, 3.2370, 3.0269],\n",
            "         [6.2102, 3.2963, 9.3536, 3.2556, 8.9665]],\n",
            "\n",
            "        [[2.2851, 0.1756, 8.5359, 7.2943, 6.7264],\n",
            "         [9.4333, 4.3531, 7.5976, 1.3009, 8.6763],\n",
            "         [1.6518, 4.9432, 3.6457, 7.7516, 2.7905],\n",
            "         [2.1652, 1.9226, 8.0560, 9.0253, 2.3395]]])\n",
            "Adding 10 : tensor([[[10.2897, 10.7922, 10.3203, 10.6519, 10.1016],\n",
            "         [10.3552, 10.8777, 10.8028, 10.9625, 10.9774],\n",
            "         [10.7261, 10.9944, 10.2652, 10.0978, 10.6294],\n",
            "         [10.0730, 10.5775, 10.8710, 10.1962, 10.9445]],\n",
            "\n",
            "        [[10.8754, 10.3111, 10.6939, 10.4581, 10.3957],\n",
            "         [10.9428, 10.5059, 10.4212, 10.8940, 10.4388],\n",
            "         [10.2418, 10.8101, 10.1487, 10.3237, 10.3027],\n",
            "         [10.6210, 10.3296, 10.9354, 10.3256, 10.8966]],\n",
            "\n",
            "        [[10.2285, 10.0176, 10.8536, 10.7294, 10.6726],\n",
            "         [10.9433, 10.4353, 10.7598, 10.1301, 10.8676],\n",
            "         [10.1652, 10.4943, 10.3646, 10.7752, 10.2790],\n",
            "         [10.2165, 10.1923, 10.8056, 10.9025, 10.2339]]])\n"
          ]
        }
      ]
    },
    {
      "cell_type": "markdown",
      "source": [
        "####Matrix Multiplication\n",
        "\n",
        "1. Element wise multiplication\n",
        "2. Multiplying with another matrix i.e dot product"
      ],
      "metadata": {
        "id": "e1TfMaoqvT0S"
      }
    },
    {
      "cell_type": "code",
      "source": [
        "#Element wise multiplication\n",
        "element_mul=int_32_tensor*float_16_tensor\n",
        "element_mul"
      ],
      "metadata": {
        "colab": {
          "base_uri": "https://localhost:8080/"
        },
        "id": "abXgQVl0vjF9",
        "outputId": "e1d708fc-1d41-40f7-8e7a-3739fe97a53b"
      },
      "execution_count": 37,
      "outputs": [
        {
          "output_type": "execute_result",
          "data": {
            "text/plain": [
              "tensor([[27., 48., 63.],\n",
              "        [18., 42., 72.]], dtype=torch.float16)"
            ]
          },
          "metadata": {},
          "execution_count": 37
        }
      ]
    },
    {
      "cell_type": "code",
      "source": [
        "#matrix multiplicationt\n",
        "tensor_1=torch.rand(4,5)\n",
        "tensor_2=torch.rand(5,4)\n",
        "\n",
        "mat_mul=torch.matmul(tensor_1,tensor_2)\n",
        "mat_mul_short=torch.mm(tensor_1,tensor_2)#alias of matmul\n",
        "mat_mul,mat_mul_short"
      ],
      "metadata": {
        "colab": {
          "base_uri": "https://localhost:8080/"
        },
        "id": "CXoIWF1pw1Za",
        "outputId": "60150fec-1988-45ca-f9d6-4131d1e3f576"
      },
      "execution_count": 38,
      "outputs": [
        {
          "output_type": "execute_result",
          "data": {
            "text/plain": [
              "(tensor([[1.2015, 0.6643, 1.0929, 1.2468],\n",
              "         [1.4613, 1.2569, 1.1581, 1.6714],\n",
              "         [0.9534, 1.0282, 0.6038, 1.1488],\n",
              "         [1.8718, 1.3976, 1.4434, 1.3432]]),\n",
              " tensor([[1.2015, 0.6643, 1.0929, 1.2468],\n",
              "         [1.4613, 1.2569, 1.1581, 1.6714],\n",
              "         [0.9534, 1.0282, 0.6038, 1.1488],\n",
              "         [1.8718, 1.3976, 1.4434, 1.3432]]))"
            ]
          },
          "metadata": {},
          "execution_count": 38
        }
      ]
    },
    {
      "cell_type": "code",
      "source": [
        "#the most common error in matrix multiplication : shape error\n",
        "tensor_mul_1=torch.rand(3,4)\n",
        "tensor_mul_2=torch.rand(2,3)\n",
        "\n",
        "mat_mul_tensor=torch.matmul(tensor_mul_1,tensor_mul_2) #the inner dimensions must match\n",
        "mat_mul_tensor"
      ],
      "metadata": {
        "id": "klW05ap0xCtR",
        "colab": {
          "base_uri": "https://localhost:8080/",
          "height": 200
        },
        "outputId": "8969a023-6b5f-4a53-a062-824c35c586f1"
      },
      "execution_count": 39,
      "outputs": [
        {
          "output_type": "error",
          "ename": "RuntimeError",
          "evalue": "mat1 and mat2 shapes cannot be multiplied (3x4 and 2x3)",
          "traceback": [
            "\u001b[0;31m---------------------------------------------------------------------------\u001b[0m",
            "\u001b[0;31mRuntimeError\u001b[0m                              Traceback (most recent call last)",
            "\u001b[0;32m<ipython-input-39-318595329>\u001b[0m in \u001b[0;36m<cell line: 0>\u001b[0;34m()\u001b[0m\n\u001b[1;32m      3\u001b[0m \u001b[0mtensor_mul_2\u001b[0m\u001b[0;34m=\u001b[0m\u001b[0mtorch\u001b[0m\u001b[0;34m.\u001b[0m\u001b[0mrand\u001b[0m\u001b[0;34m(\u001b[0m\u001b[0;36m2\u001b[0m\u001b[0;34m,\u001b[0m\u001b[0;36m3\u001b[0m\u001b[0;34m)\u001b[0m\u001b[0;34m\u001b[0m\u001b[0;34m\u001b[0m\u001b[0m\n\u001b[1;32m      4\u001b[0m \u001b[0;34m\u001b[0m\u001b[0m\n\u001b[0;32m----> 5\u001b[0;31m \u001b[0mmat_mul_tensor\u001b[0m\u001b[0;34m=\u001b[0m\u001b[0mtorch\u001b[0m\u001b[0;34m.\u001b[0m\u001b[0mmatmul\u001b[0m\u001b[0;34m(\u001b[0m\u001b[0mtensor_mul_1\u001b[0m\u001b[0;34m,\u001b[0m\u001b[0mtensor_mul_2\u001b[0m\u001b[0;34m)\u001b[0m \u001b[0;31m#the inner dimensions must match\u001b[0m\u001b[0;34m\u001b[0m\u001b[0;34m\u001b[0m\u001b[0m\n\u001b[0m\u001b[1;32m      6\u001b[0m \u001b[0mmat_mul_tensor\u001b[0m\u001b[0;34m\u001b[0m\u001b[0;34m\u001b[0m\u001b[0m\n",
            "\u001b[0;31mRuntimeError\u001b[0m: mat1 and mat2 shapes cannot be multiplied (3x4 and 2x3)"
          ]
        }
      ]
    },
    {
      "cell_type": "code",
      "source": [
        "#using transpose\n",
        "tensor_A=torch.tensor([[1,2],\n",
        "                       [3,4],\n",
        "                       [5,6]])\n",
        "tensor_B=torch.tensor([[7,10],\n",
        "                       [8,11],\n",
        "                       [9,12]])\n",
        "tensor_A.T,tensor_B.T"
      ],
      "metadata": {
        "colab": {
          "base_uri": "https://localhost:8080/"
        },
        "id": "Xkp53IMk4zpL",
        "outputId": "3f75af39-4866-4f9f-b5da-e30fc098868f"
      },
      "execution_count": 40,
      "outputs": [
        {
          "output_type": "execute_result",
          "data": {
            "text/plain": [
              "(tensor([[1, 3, 5],\n",
              "         [2, 4, 6]]),\n",
              " tensor([[ 7,  8,  9],\n",
              "         [10, 11, 12]]))"
            ]
          },
          "metadata": {},
          "execution_count": 40
        }
      ]
    },
    {
      "cell_type": "code",
      "source": [
        "tensor_C=torch.mm(tensor_A,tensor_B.T)\n",
        "tensor_C"
      ],
      "metadata": {
        "colab": {
          "base_uri": "https://localhost:8080/"
        },
        "id": "zfcQMLBf6FU0",
        "outputId": "0fa38f43-453c-4da2-9715-ce39f52e9c61"
      },
      "execution_count": 41,
      "outputs": [
        {
          "output_type": "execute_result",
          "data": {
            "text/plain": [
              "tensor([[ 27,  30,  33],\n",
              "        [ 61,  68,  75],\n",
              "        [ 95, 106, 117]])"
            ]
          },
          "metadata": {},
          "execution_count": 41
        }
      ]
    },
    {
      "cell_type": "markdown",
      "source": [
        "###Tensor Aggregation\n",
        "1. Mean\n",
        "2. Max\n",
        "3. Min\n",
        "4. Sum"
      ],
      "metadata": {
        "id": "mMMQo9zI6LEs"
      }
    },
    {
      "cell_type": "code",
      "source": [
        "x=torch.arange(0,100,5)\n",
        "x"
      ],
      "metadata": {
        "colab": {
          "base_uri": "https://localhost:8080/"
        },
        "id": "NkiOs9Fb7AjA",
        "outputId": "838a26b5-8542-40e0-8af1-275bdbe14b2d"
      },
      "execution_count": 42,
      "outputs": [
        {
          "output_type": "execute_result",
          "data": {
            "text/plain": [
              "tensor([ 0,  5, 10, 15, 20, 25, 30, 35, 40, 45, 50, 55, 60, 65, 70, 75, 80, 85,\n",
              "        90, 95])"
            ]
          },
          "metadata": {},
          "execution_count": 42
        }
      ]
    },
    {
      "cell_type": "code",
      "source": [
        "#min\n",
        "torch.min(x)"
      ],
      "metadata": {
        "colab": {
          "base_uri": "https://localhost:8080/"
        },
        "id": "t6EBgT657GJP",
        "outputId": "1839e708-3117-45de-d2e3-b78441d68b10"
      },
      "execution_count": 43,
      "outputs": [
        {
          "output_type": "execute_result",
          "data": {
            "text/plain": [
              "tensor(0)"
            ]
          },
          "metadata": {},
          "execution_count": 43
        }
      ]
    },
    {
      "cell_type": "code",
      "source": [
        "#max\n",
        "torch.max(x)"
      ],
      "metadata": {
        "colab": {
          "base_uri": "https://localhost:8080/"
        },
        "id": "e8HMy5xm7Md1",
        "outputId": "3c58724a-684b-4308-a39f-2f4196e89d2c"
      },
      "execution_count": 44,
      "outputs": [
        {
          "output_type": "execute_result",
          "data": {
            "text/plain": [
              "tensor(95)"
            ]
          },
          "metadata": {},
          "execution_count": 44
        }
      ]
    },
    {
      "cell_type": "code",
      "source": [
        "#mean\n",
        "torch.mean(x)"
      ],
      "metadata": {
        "colab": {
          "base_uri": "https://localhost:8080/",
          "height": 164
        },
        "id": "jcQs4x9n7OUt",
        "outputId": "e2aebac3-fe7a-4ba1-b2b5-d5fe5d190835"
      },
      "execution_count": 45,
      "outputs": [
        {
          "output_type": "error",
          "ename": "RuntimeError",
          "evalue": "mean(): could not infer output dtype. Input dtype must be either a floating point or complex dtype. Got: Long",
          "traceback": [
            "\u001b[0;31m---------------------------------------------------------------------------\u001b[0m",
            "\u001b[0;31mRuntimeError\u001b[0m                              Traceback (most recent call last)",
            "\u001b[0;32m<ipython-input-45-3018000348>\u001b[0m in \u001b[0;36m<cell line: 0>\u001b[0;34m()\u001b[0m\n\u001b[1;32m      1\u001b[0m \u001b[0;31m#mean\u001b[0m\u001b[0;34m\u001b[0m\u001b[0;34m\u001b[0m\u001b[0m\n\u001b[0;32m----> 2\u001b[0;31m \u001b[0mtorch\u001b[0m\u001b[0;34m.\u001b[0m\u001b[0mmean\u001b[0m\u001b[0;34m(\u001b[0m\u001b[0mx\u001b[0m\u001b[0;34m)\u001b[0m\u001b[0;34m\u001b[0m\u001b[0;34m\u001b[0m\u001b[0m\n\u001b[0m",
            "\u001b[0;31mRuntimeError\u001b[0m: mean(): could not infer output dtype. Input dtype must be either a floating point or complex dtype. Got: Long"
          ]
        }
      ]
    },
    {
      "cell_type": "markdown",
      "source": [
        "torch.mean doesnt work with int types."
      ],
      "metadata": {
        "id": "9VCPLIvs7Wa1"
      }
    },
    {
      "cell_type": "code",
      "source": [
        "torch.mean(x.type(torch.float32))"
      ],
      "metadata": {
        "colab": {
          "base_uri": "https://localhost:8080/"
        },
        "id": "VvBf7iS07UrK",
        "outputId": "a7b1f79c-96fc-4bba-e0cd-4915a9f7181b"
      },
      "execution_count": 46,
      "outputs": [
        {
          "output_type": "execute_result",
          "data": {
            "text/plain": [
              "tensor(47.5000)"
            ]
          },
          "metadata": {},
          "execution_count": 46
        }
      ]
    },
    {
      "cell_type": "code",
      "source": [
        "#sum\n",
        "torch.sum(x)"
      ],
      "metadata": {
        "colab": {
          "base_uri": "https://localhost:8080/"
        },
        "id": "Ctvb0KRB7j2K",
        "outputId": "43237e5a-998e-4b86-98b6-99977581bddc"
      },
      "execution_count": 47,
      "outputs": [
        {
          "output_type": "execute_result",
          "data": {
            "text/plain": [
              "tensor(950)"
            ]
          },
          "metadata": {},
          "execution_count": 47
        }
      ]
    },
    {
      "cell_type": "markdown",
      "source": [
        "###Positional min and max"
      ],
      "metadata": {
        "id": "NC-WpPZL7nCG"
      }
    },
    {
      "cell_type": "code",
      "source": [
        "#positional minimum\n",
        "x.argmin()"
      ],
      "metadata": {
        "colab": {
          "base_uri": "https://localhost:8080/"
        },
        "id": "pITK4V0S7t4N",
        "outputId": "98e5b6d8-801c-490e-8495-670a392b7d1e"
      },
      "execution_count": 48,
      "outputs": [
        {
          "output_type": "execute_result",
          "data": {
            "text/plain": [
              "tensor(0)"
            ]
          },
          "metadata": {},
          "execution_count": 48
        }
      ]
    },
    {
      "cell_type": "code",
      "source": [
        "#positional maximum\n",
        "x.argmax()"
      ],
      "metadata": {
        "colab": {
          "base_uri": "https://localhost:8080/"
        },
        "id": "UaRaS4Zj7u_w",
        "outputId": "c404730a-3173-4f75-dc3b-7101ff9e3270"
      },
      "execution_count": 49,
      "outputs": [
        {
          "output_type": "execute_result",
          "data": {
            "text/plain": [
              "tensor(19)"
            ]
          },
          "metadata": {},
          "execution_count": 49
        }
      ]
    },
    {
      "cell_type": "code",
      "source": [
        "x[0],x[19]"
      ],
      "metadata": {
        "colab": {
          "base_uri": "https://localhost:8080/"
        },
        "id": "uzfr67UO7wM-",
        "outputId": "cbcebb8a-67aa-444a-e5e1-454162522ec8"
      },
      "execution_count": 50,
      "outputs": [
        {
          "output_type": "execute_result",
          "data": {
            "text/plain": [
              "(tensor(0), tensor(95))"
            ]
          },
          "metadata": {},
          "execution_count": 50
        }
      ]
    },
    {
      "cell_type": "markdown",
      "source": [
        "###Reshaping,stacking,squeezing and unsqueezing tensors\n",
        "\n",
        "* Reshaping- reshaping the input tensor to a different tensor\n",
        "* View     - return a view of an input tensor of certain shape but keep memory as the original tensor\n",
        "* Stacking - combine multiple tensors on top of each other or side by side\n",
        "* Squeeze  - remove dimensions from tensor\n",
        "* Unsqueeze- add dimension to a tensor\n",
        "* Permute  - return a view of the input with the dimensions permuted in a certain way"
      ],
      "metadata": {
        "id": "0OllTIzF7z3K"
      }
    },
    {
      "cell_type": "code",
      "source": [
        "x=torch.arange(1.,50.,5)\n",
        "x"
      ],
      "metadata": {
        "colab": {
          "base_uri": "https://localhost:8080/"
        },
        "id": "6LzYXQse9DKe",
        "outputId": "df1eaa73-dd04-4467-aac1-0e098c273eb9"
      },
      "execution_count": 51,
      "outputs": [
        {
          "output_type": "execute_result",
          "data": {
            "text/plain": [
              "tensor([ 1.,  6., 11., 16., 21., 26., 31., 36., 41., 46.])"
            ]
          },
          "metadata": {},
          "execution_count": 51
        }
      ]
    },
    {
      "cell_type": "code",
      "source": [
        "x.shape"
      ],
      "metadata": {
        "colab": {
          "base_uri": "https://localhost:8080/"
        },
        "id": "Mh8oIqqs9PsY",
        "outputId": "3dab0818-2f95-4e9c-d302-e9693bbd7be9"
      },
      "execution_count": 52,
      "outputs": [
        {
          "output_type": "execute_result",
          "data": {
            "text/plain": [
              "torch.Size([10])"
            ]
          },
          "metadata": {},
          "execution_count": 52
        }
      ]
    },
    {
      "cell_type": "code",
      "source": [
        "#reshaping\n",
        "x_reshaped=x.reshape(5,2) #reshape has to be compatible with original shape\n",
        "x_reshaped"
      ],
      "metadata": {
        "colab": {
          "base_uri": "https://localhost:8080/"
        },
        "id": "0QxqZ7YY9hdv",
        "outputId": "3ff39ead-ecc0-4c70-b842-c03f79fec384"
      },
      "execution_count": 53,
      "outputs": [
        {
          "output_type": "execute_result",
          "data": {
            "text/plain": [
              "tensor([[ 1.,  6.],\n",
              "        [11., 16.],\n",
              "        [21., 26.],\n",
              "        [31., 36.],\n",
              "        [41., 46.]])"
            ]
          },
          "metadata": {},
          "execution_count": 53
        }
      ]
    },
    {
      "cell_type": "code",
      "source": [
        "#change the view\n",
        "z=x.view(10,1)\n",
        "z,z.shape"
      ],
      "metadata": {
        "colab": {
          "base_uri": "https://localhost:8080/"
        },
        "id": "nTDIW4MX9pwP",
        "outputId": "b36d9fcc-9403-45bd-d26c-2c2d4d390d00"
      },
      "execution_count": 54,
      "outputs": [
        {
          "output_type": "execute_result",
          "data": {
            "text/plain": [
              "(tensor([[ 1.],\n",
              "         [ 6.],\n",
              "         [11.],\n",
              "         [16.],\n",
              "         [21.],\n",
              "         [26.],\n",
              "         [31.],\n",
              "         [36.],\n",
              "         [41.],\n",
              "         [46.]]),\n",
              " torch.Size([10, 1]))"
            ]
          },
          "metadata": {},
          "execution_count": 54
        }
      ]
    },
    {
      "cell_type": "code",
      "source": [
        "#changing z changes x because a view share the original tensor's memory\n",
        "z[7,:]=52\n",
        "z,x"
      ],
      "metadata": {
        "colab": {
          "base_uri": "https://localhost:8080/"
        },
        "id": "9-IP0QnD9xwz",
        "outputId": "6cfd70c3-e8f6-45cb-e6d6-491d5a569213"
      },
      "execution_count": 55,
      "outputs": [
        {
          "output_type": "execute_result",
          "data": {
            "text/plain": [
              "(tensor([[ 1.],\n",
              "         [ 6.],\n",
              "         [11.],\n",
              "         [16.],\n",
              "         [21.],\n",
              "         [26.],\n",
              "         [31.],\n",
              "         [52.],\n",
              "         [41.],\n",
              "         [46.]]),\n",
              " tensor([ 1.,  6., 11., 16., 21., 26., 31., 52., 41., 46.]))"
            ]
          },
          "metadata": {},
          "execution_count": 55
        }
      ]
    },
    {
      "cell_type": "code",
      "source": [
        "#stacking\n",
        "x_stacked=torch.stack([x,x],dim=0)\n",
        "x_stacked"
      ],
      "metadata": {
        "colab": {
          "base_uri": "https://localhost:8080/"
        },
        "id": "IkLGhtc7-Tw9",
        "outputId": "388639c1-cace-40a5-b742-908376a81c35"
      },
      "execution_count": 56,
      "outputs": [
        {
          "output_type": "execute_result",
          "data": {
            "text/plain": [
              "tensor([[ 1.,  6., 11., 16., 21., 26., 31., 52., 41., 46.],\n",
              "        [ 1.,  6., 11., 16., 21., 26., 31., 52., 41., 46.]])"
            ]
          },
          "metadata": {},
          "execution_count": 56
        }
      ]
    },
    {
      "cell_type": "code",
      "source": [
        "x_stacked=torch.stack([x,x],dim=1)\n",
        "x_stacked"
      ],
      "metadata": {
        "colab": {
          "base_uri": "https://localhost:8080/"
        },
        "id": "urvMaLXo-gxE",
        "outputId": "31f4e3a2-8ba9-4f27-f79d-016d30e52dc2"
      },
      "execution_count": 57,
      "outputs": [
        {
          "output_type": "execute_result",
          "data": {
            "text/plain": [
              "tensor([[ 1.,  1.],\n",
              "        [ 6.,  6.],\n",
              "        [11., 11.],\n",
              "        [16., 16.],\n",
              "        [21., 21.],\n",
              "        [26., 26.],\n",
              "        [31., 31.],\n",
              "        [52., 52.],\n",
              "        [41., 41.],\n",
              "        [46., 46.]])"
            ]
          },
          "metadata": {},
          "execution_count": 57
        }
      ]
    },
    {
      "cell_type": "code",
      "source": [
        "#squeezing\n",
        "x=torch.arange(0.,10.)\n",
        "x_reshaped=x.reshape(1,10)\n",
        "\n",
        "x_squeezed=torch.squeeze(x_reshaped,dim=0)\n",
        "x_squeezed"
      ],
      "metadata": {
        "id": "3TfyXqeC-mxc",
        "outputId": "f9fbc110-ce4b-40f4-efbe-b204ba0d5f06",
        "colab": {
          "base_uri": "https://localhost:8080/"
        }
      },
      "execution_count": 58,
      "outputs": [
        {
          "output_type": "execute_result",
          "data": {
            "text/plain": [
              "tensor([0., 1., 2., 3., 4., 5., 6., 7., 8., 9.])"
            ]
          },
          "metadata": {},
          "execution_count": 58
        }
      ]
    },
    {
      "cell_type": "code",
      "source": [
        "x_reshaped.shape,x_squeezed.shape"
      ],
      "metadata": {
        "colab": {
          "base_uri": "https://localhost:8080/"
        },
        "id": "cEt2Th8a-7t3",
        "outputId": "47478948-4c5e-4f1b-d05f-889e8770d9ed"
      },
      "execution_count": 59,
      "outputs": [
        {
          "output_type": "execute_result",
          "data": {
            "text/plain": [
              "(torch.Size([1, 10]), torch.Size([10]))"
            ]
          },
          "metadata": {},
          "execution_count": 59
        }
      ]
    },
    {
      "cell_type": "code",
      "source": [
        "#unsqueeze\n",
        "x_unsqueezed=x_squeezed.unsqueeze(dim=1)\n",
        "x_unsqueezed.shape"
      ],
      "metadata": {
        "colab": {
          "base_uri": "https://localhost:8080/"
        },
        "id": "lO1x9F8__TEL",
        "outputId": "57835ddc-8343-4a4e-c412-7e5a56381f1b"
      },
      "execution_count": 60,
      "outputs": [
        {
          "output_type": "execute_result",
          "data": {
            "text/plain": [
              "torch.Size([10, 1])"
            ]
          },
          "metadata": {},
          "execution_count": 60
        }
      ]
    },
    {
      "cell_type": "code",
      "source": [
        "#permuting-returns a view with dimensions rearranged\n",
        "x=torch.ones(size=(4,2,7))\n",
        "x\n"
      ],
      "metadata": {
        "colab": {
          "base_uri": "https://localhost:8080/"
        },
        "id": "EwXI24RK_2r9",
        "outputId": "70ae8e36-633c-4251-9c3e-98d9d8bb5727"
      },
      "execution_count": 61,
      "outputs": [
        {
          "output_type": "execute_result",
          "data": {
            "text/plain": [
              "tensor([[[1., 1., 1., 1., 1., 1., 1.],\n",
              "         [1., 1., 1., 1., 1., 1., 1.]],\n",
              "\n",
              "        [[1., 1., 1., 1., 1., 1., 1.],\n",
              "         [1., 1., 1., 1., 1., 1., 1.]],\n",
              "\n",
              "        [[1., 1., 1., 1., 1., 1., 1.],\n",
              "         [1., 1., 1., 1., 1., 1., 1.]],\n",
              "\n",
              "        [[1., 1., 1., 1., 1., 1., 1.],\n",
              "         [1., 1., 1., 1., 1., 1., 1.]]])"
            ]
          },
          "metadata": {},
          "execution_count": 61
        }
      ]
    },
    {
      "cell_type": "code",
      "source": [
        "x_permuted=x.permute(2,0,1) #shifts axis 0->2, 1->0, 2->1\n"
      ],
      "metadata": {
        "id": "I1241xofALcB"
      },
      "execution_count": 62,
      "outputs": []
    },
    {
      "cell_type": "code",
      "source": [
        "x_permuted.shape,x.shape"
      ],
      "metadata": {
        "colab": {
          "base_uri": "https://localhost:8080/"
        },
        "id": "i11TIjp3AfOF",
        "outputId": "42f7f87b-368d-4a62-96a9-f353dcd4248f"
      },
      "execution_count": 63,
      "outputs": [
        {
          "output_type": "execute_result",
          "data": {
            "text/plain": [
              "(torch.Size([7, 4, 2]), torch.Size([4, 2, 7]))"
            ]
          },
          "metadata": {},
          "execution_count": 63
        }
      ]
    },
    {
      "cell_type": "markdown",
      "source": [
        "###Indexing in PyTorch"
      ],
      "metadata": {
        "id": "iL-hihbEAiZI"
      }
    },
    {
      "cell_type": "code",
      "source": [
        "x=torch.arange(1.,10.).reshape(1,3,3)\n",
        "x"
      ],
      "metadata": {
        "colab": {
          "base_uri": "https://localhost:8080/"
        },
        "id": "gFyLjtkkyVD-",
        "outputId": "f749bad0-6672-4325-d950-82172dda9de1"
      },
      "execution_count": 64,
      "outputs": [
        {
          "output_type": "execute_result",
          "data": {
            "text/plain": [
              "tensor([[[1., 2., 3.],\n",
              "         [4., 5., 6.],\n",
              "         [7., 8., 9.]]])"
            ]
          },
          "metadata": {},
          "execution_count": 64
        }
      ]
    },
    {
      "cell_type": "code",
      "source": [
        "#indexing on the tensor\n",
        "x[0]"
      ],
      "metadata": {
        "colab": {
          "base_uri": "https://localhost:8080/"
        },
        "id": "LGCgf1DMyZWg",
        "outputId": "dec860af-6928-4dad-d987-781943ef8654"
      },
      "execution_count": 65,
      "outputs": [
        {
          "output_type": "execute_result",
          "data": {
            "text/plain": [
              "tensor([[1., 2., 3.],\n",
              "        [4., 5., 6.],\n",
              "        [7., 8., 9.]])"
            ]
          },
          "metadata": {},
          "execution_count": 65
        }
      ]
    },
    {
      "cell_type": "code",
      "source": [
        "x[0][0],x[0,0]"
      ],
      "metadata": {
        "colab": {
          "base_uri": "https://localhost:8080/"
        },
        "id": "mmTGedMsycio",
        "outputId": "1c73f041-6acf-42c8-845a-defaf14c2b9c"
      },
      "execution_count": 66,
      "outputs": [
        {
          "output_type": "execute_result",
          "data": {
            "text/plain": [
              "(tensor([1., 2., 3.]), tensor([1., 2., 3.]))"
            ]
          },
          "metadata": {},
          "execution_count": 66
        }
      ]
    },
    {
      "cell_type": "code",
      "source": [
        "x[0,1,1]"
      ],
      "metadata": {
        "colab": {
          "base_uri": "https://localhost:8080/"
        },
        "id": "jI-yD_QDye7j",
        "outputId": "50465815-6143-401f-9f1f-7142f5f7960a"
      },
      "execution_count": 67,
      "outputs": [
        {
          "output_type": "execute_result",
          "data": {
            "text/plain": [
              "tensor(5.)"
            ]
          },
          "metadata": {},
          "execution_count": 67
        }
      ]
    },
    {
      "cell_type": "code",
      "source": [
        "x[0,2,1]"
      ],
      "metadata": {
        "colab": {
          "base_uri": "https://localhost:8080/"
        },
        "id": "jsvT444AyjM-",
        "outputId": "b4b76024-87a8-4b0b-f6f5-55305bc19b46"
      },
      "execution_count": 68,
      "outputs": [
        {
          "output_type": "execute_result",
          "data": {
            "text/plain": [
              "tensor(8.)"
            ]
          },
          "metadata": {},
          "execution_count": 68
        }
      ]
    },
    {
      "cell_type": "code",
      "source": [
        "#using : to select all values of a particular dimension\n",
        "x[:,2]"
      ],
      "metadata": {
        "colab": {
          "base_uri": "https://localhost:8080/"
        },
        "id": "zj14L92Rynr6",
        "outputId": "3e932466-688b-4b74-db06-6a8fd175a411"
      },
      "execution_count": 69,
      "outputs": [
        {
          "output_type": "execute_result",
          "data": {
            "text/plain": [
              "tensor([[7., 8., 9.]])"
            ]
          },
          "metadata": {},
          "execution_count": 69
        }
      ]
    },
    {
      "cell_type": "code",
      "source": [
        "x[:,2,:]"
      ],
      "metadata": {
        "colab": {
          "base_uri": "https://localhost:8080/"
        },
        "id": "vvbehaAGy-Of",
        "outputId": "0c5fe788-967b-463a-9799-0f49b451daaf"
      },
      "execution_count": 70,
      "outputs": [
        {
          "output_type": "execute_result",
          "data": {
            "text/plain": [
              "tensor([[7., 8., 9.]])"
            ]
          },
          "metadata": {},
          "execution_count": 70
        }
      ]
    },
    {
      "cell_type": "code",
      "source": [
        "x[0,:,:]"
      ],
      "metadata": {
        "colab": {
          "base_uri": "https://localhost:8080/"
        },
        "id": "G5fAh6zVzBH2",
        "outputId": "660faf96-67a1-43b8-b27a-7e54c1215596"
      },
      "execution_count": 71,
      "outputs": [
        {
          "output_type": "execute_result",
          "data": {
            "text/plain": [
              "tensor([[1., 2., 3.],\n",
              "        [4., 5., 6.],\n",
              "        [7., 8., 9.]])"
            ]
          },
          "metadata": {},
          "execution_count": 71
        }
      ]
    },
    {
      "cell_type": "markdown",
      "source": [
        "##PyTorch and NumPy\n",
        "\n",
        "PyTorch has functionality to interact with NumPy\n",
        "\n",
        "* Data in NumPy to PyTorch tensor `torch.from_numpy(ndarray)`\n",
        "* Data in PyTorch tensor to NumPy `torch.Tensor.numpy(ndaray)`"
      ],
      "metadata": {
        "id": "8bAVebuAzETG"
      }
    },
    {
      "cell_type": "code",
      "source": [
        "import torch\n",
        "import numpy as np\n",
        "\n",
        "array=np.arange(1.,8.)\n",
        "tensor=torch.from_numpy(array)\n",
        "tensor,array"
      ],
      "metadata": {
        "colab": {
          "base_uri": "https://localhost:8080/"
        },
        "id": "wuRBTueezx_w",
        "outputId": "1d8c4289-b6dc-4643-b612-2b1c4ae46c83"
      },
      "execution_count": 72,
      "outputs": [
        {
          "output_type": "execute_result",
          "data": {
            "text/plain": [
              "(tensor([1., 2., 3., 4., 5., 6., 7.], dtype=torch.float64),\n",
              " array([1., 2., 3., 4., 5., 6., 7.]))"
            ]
          },
          "metadata": {},
          "execution_count": 72
        }
      ]
    },
    {
      "cell_type": "markdown",
      "source": [
        "When converting from numpy to pytorch it reflects the datatype of numpy which is float64 whereas as the default datatype of torch is float32"
      ],
      "metadata": {
        "id": "eBotkINX0BJ8"
      }
    },
    {
      "cell_type": "code",
      "source": [
        "tensor=torch.ones(size=(3,3))\n",
        "numpy_tensor=tensor.numpy()"
      ],
      "metadata": {
        "id": "DFQS_wNRz9YD"
      },
      "execution_count": 73,
      "outputs": []
    },
    {
      "cell_type": "code",
      "source": [
        "tensor,numpy_tensor"
      ],
      "metadata": {
        "colab": {
          "base_uri": "https://localhost:8080/"
        },
        "id": "aq9jGjCo0YLG",
        "outputId": "7b536fb1-9601-4b57-9c66-30245f38f489"
      },
      "execution_count": 74,
      "outputs": [
        {
          "output_type": "execute_result",
          "data": {
            "text/plain": [
              "(tensor([[1., 1., 1.],\n",
              "         [1., 1., 1.],\n",
              "         [1., 1., 1.]]),\n",
              " array([[1., 1., 1.],\n",
              "        [1., 1., 1.],\n",
              "        [1., 1., 1.]], dtype=float32))"
            ]
          },
          "metadata": {},
          "execution_count": 74
        }
      ]
    },
    {
      "cell_type": "markdown",
      "source": [
        "##Reproducability\n",
        "To reduce randomness we use **random seed**."
      ],
      "metadata": {
        "id": "uGQl-WCR0Zyv"
      }
    },
    {
      "cell_type": "code",
      "source": [
        "#creating 2 random tensors\n",
        "random_tensor_A=torch.rand(4,5)\n",
        "random_tensor_B=torch.rand(4,5)\n",
        "random_tensor_A,random_tensor_B"
      ],
      "metadata": {
        "colab": {
          "base_uri": "https://localhost:8080/"
        },
        "id": "Ri12DSY_06bj",
        "outputId": "d791ae34-9867-4f0b-bf7c-1a92773314d5"
      },
      "execution_count": 75,
      "outputs": [
        {
          "output_type": "execute_result",
          "data": {
            "text/plain": [
              "(tensor([[0.3163, 0.4855, 0.9846, 0.9366, 0.2685],\n",
              "         [0.7170, 0.4934, 0.2872, 0.5517, 0.6529],\n",
              "         [0.8865, 0.8815, 0.2886, 0.4272, 0.1615],\n",
              "         [0.8565, 0.3950, 0.2406, 0.3173, 0.1030]]),\n",
              " tensor([[0.0546, 0.0564, 0.8432, 0.3059, 0.3636],\n",
              "         [0.3554, 0.2397, 0.7679, 0.1627, 0.0510],\n",
              "         [0.9437, 0.1919, 0.5246, 0.7009, 0.6254],\n",
              "         [0.1456, 0.2057, 0.3596, 0.0326, 0.5544]]))"
            ]
          },
          "metadata": {},
          "execution_count": 75
        }
      ]
    },
    {
      "cell_type": "code",
      "source": [
        "print(random_tensor_A==random_tensor_B)"
      ],
      "metadata": {
        "colab": {
          "base_uri": "https://localhost:8080/"
        },
        "id": "pwm0TBZr1XFJ",
        "outputId": "149b49a7-0fb9-4da4-c6fe-c2db8124bfdc"
      },
      "execution_count": 76,
      "outputs": [
        {
          "output_type": "stream",
          "name": "stdout",
          "text": [
            "tensor([[False, False, False, False, False],\n",
            "        [False, False, False, False, False],\n",
            "        [False, False, False, False, False],\n",
            "        [False, False, False, False, False]])\n"
          ]
        }
      ]
    },
    {
      "cell_type": "code",
      "source": [
        "#setting a random seed\n",
        "RANDOM_SEED=42\n",
        "torch.manual_seed(RANDOM_SEED)\n",
        "\n",
        "random_tensor_C=torch.rand(4,5)\n",
        "\n",
        "torch.manual_seed(42)\n",
        "random_tensor_D=torch.rand(4,5)\n",
        "\n",
        "print(random_tensor_C==random_tensor_D)"
      ],
      "metadata": {
        "colab": {
          "base_uri": "https://localhost:8080/"
        },
        "id": "ke_MXDpc1d-S",
        "outputId": "0b4aa382-8353-4cee-cc01-51af0664f6b8"
      },
      "execution_count": 77,
      "outputs": [
        {
          "output_type": "stream",
          "name": "stdout",
          "text": [
            "tensor([[True, True, True, True, True],\n",
            "        [True, True, True, True, True],\n",
            "        [True, True, True, True, True],\n",
            "        [True, True, True, True, True]])\n"
          ]
        }
      ]
    },
    {
      "cell_type": "markdown",
      "source": [
        "Use `torch.manal_seed()` every time you use a torch function because it works for only one instance of torch"
      ],
      "metadata": {
        "id": "cZuRZt7813Lp"
      }
    },
    {
      "cell_type": "markdown",
      "source": [
        "##Running tensors and PyTorch objects on the GPU's\n"
      ],
      "metadata": {
        "id": "BdFM9NzH11VT"
      }
    },
    {
      "cell_type": "markdown",
      "source": [
        "###Getting a GPU\n",
        "\n",
        "1. Use the google colab gpu's\n",
        "2. Use your own GPU\n",
        "3. Use cloud computing- GCP,AWS and AZURE\n",
        "\n",
        "For 2,3 PyTorch+CUDA will need some setting up"
      ],
      "metadata": {
        "id": "dCwVMSOP2JqM"
      }
    },
    {
      "cell_type": "code",
      "source": [
        "##Checking for GPU\n",
        "torch.cuda.is_available()"
      ],
      "metadata": {
        "colab": {
          "base_uri": "https://localhost:8080/"
        },
        "id": "ejPdSAJG3BEN",
        "outputId": "fa4b11a6-97ca-4902-b79d-0295fe686058"
      },
      "execution_count": 78,
      "outputs": [
        {
          "output_type": "execute_result",
          "data": {
            "text/plain": [
              "True"
            ]
          },
          "metadata": {},
          "execution_count": 78
        }
      ]
    },
    {
      "cell_type": "code",
      "source": [
        "#Setup device agnostic code\n",
        "device='cuda' if torch.cuda.is_available() else 'cpu' #if gpu is available set device to cuda or else make it cpu\n",
        "device"
      ],
      "metadata": {
        "colab": {
          "base_uri": "https://localhost:8080/",
          "height": 36
        },
        "id": "-OEJqTOr3W2c",
        "outputId": "80fccc85-2ded-4431-c763-054c04b78762"
      },
      "execution_count": 79,
      "outputs": [
        {
          "output_type": "execute_result",
          "data": {
            "text/plain": [
              "'cuda'"
            ],
            "application/vnd.google.colaboratory.intrinsic+json": {
              "type": "string"
            }
          },
          "metadata": {},
          "execution_count": 79
        }
      ]
    },
    {
      "cell_type": "code",
      "source": [
        "torch.cuda.device_count() #counting the number of gpu's"
      ],
      "metadata": {
        "colab": {
          "base_uri": "https://localhost:8080/"
        },
        "id": "hBjUOuED3n93",
        "outputId": "dfef31da-d52d-491a-b86f-463ef26879f1"
      },
      "execution_count": 80,
      "outputs": [
        {
          "output_type": "execute_result",
          "data": {
            "text/plain": [
              "1"
            ]
          },
          "metadata": {},
          "execution_count": 80
        }
      ]
    },
    {
      "cell_type": "markdown",
      "source": [
        "###Putting Tensors to GPU's"
      ],
      "metadata": {
        "id": "f_MqSafe3sXK"
      }
    },
    {
      "cell_type": "code",
      "source": [
        "#creating a tensor\n",
        "tensor=torch.rand([4,5],device='cpu')\n",
        "print(tensor,tensor.device)\n",
        "\n",
        "\n"
      ],
      "metadata": {
        "colab": {
          "base_uri": "https://localhost:8080/"
        },
        "id": "7WgHMlvg39mj",
        "outputId": "17be69b4-817f-420d-9f3e-fd9166671a2a"
      },
      "execution_count": 81,
      "outputs": [
        {
          "output_type": "stream",
          "name": "stdout",
          "text": [
            "tensor([[0.2696, 0.4414, 0.2969, 0.8317, 0.1053],\n",
            "        [0.2695, 0.3588, 0.1994, 0.5472, 0.0062],\n",
            "        [0.9516, 0.0753, 0.8860, 0.5832, 0.3376],\n",
            "        [0.8090, 0.5779, 0.9040, 0.5547, 0.3423]]) cpu\n"
          ]
        }
      ]
    },
    {
      "cell_type": "code",
      "source": [
        "#move tensor to gpu\n",
        "tensor_on_gpu=tensor.to(device)\n",
        "tensor_on_gpu"
      ],
      "metadata": {
        "colab": {
          "base_uri": "https://localhost:8080/"
        },
        "id": "LRvhN8f44JDB",
        "outputId": "c2007012-74c0-40a2-d00c-14f9925466d0"
      },
      "execution_count": 82,
      "outputs": [
        {
          "output_type": "execute_result",
          "data": {
            "text/plain": [
              "tensor([[0.2696, 0.4414, 0.2969, 0.8317, 0.1053],\n",
              "        [0.2695, 0.3588, 0.1994, 0.5472, 0.0062],\n",
              "        [0.9516, 0.0753, 0.8860, 0.5832, 0.3376],\n",
              "        [0.8090, 0.5779, 0.9040, 0.5547, 0.3423]], device='cuda:0')"
            ]
          },
          "metadata": {},
          "execution_count": 82
        }
      ]
    },
    {
      "cell_type": "code",
      "source": [
        "#if tensor is on gpu we cant convert it to numpy\n",
        "tensor_on_gpu.numpy()"
      ],
      "metadata": {
        "colab": {
          "base_uri": "https://localhost:8080/",
          "height": 164
        },
        "id": "RCKXoaJq4QSj",
        "outputId": "c8400532-8892-4e03-9092-264b6ca3cd91"
      },
      "execution_count": 83,
      "outputs": [
        {
          "output_type": "error",
          "ename": "TypeError",
          "evalue": "can't convert cuda:0 device type tensor to numpy. Use Tensor.cpu() to copy the tensor to host memory first.",
          "traceback": [
            "\u001b[0;31m---------------------------------------------------------------------------\u001b[0m",
            "\u001b[0;31mTypeError\u001b[0m                                 Traceback (most recent call last)",
            "\u001b[0;32m<ipython-input-83-4153914518>\u001b[0m in \u001b[0;36m<cell line: 0>\u001b[0;34m()\u001b[0m\n\u001b[1;32m      1\u001b[0m \u001b[0;31m#if tensor is on gpu we cant convert it to numpy\u001b[0m\u001b[0;34m\u001b[0m\u001b[0;34m\u001b[0m\u001b[0m\n\u001b[0;32m----> 2\u001b[0;31m \u001b[0mtensor_on_gpu\u001b[0m\u001b[0;34m.\u001b[0m\u001b[0mnumpy\u001b[0m\u001b[0;34m(\u001b[0m\u001b[0;34m)\u001b[0m\u001b[0;34m\u001b[0m\u001b[0;34m\u001b[0m\u001b[0m\n\u001b[0m",
            "\u001b[0;31mTypeError\u001b[0m: can't convert cuda:0 device type tensor to numpy. Use Tensor.cpu() to copy the tensor to host memory first."
          ]
        }
      ]
    },
    {
      "cell_type": "code",
      "source": [
        "#to fix the above thing\n",
        "tensor_on_cpu=tensor_on_gpu.cpu().numpy()\n",
        "tensor_on_cpu"
      ],
      "metadata": {
        "colab": {
          "base_uri": "https://localhost:8080/"
        },
        "id": "39Cfz94V4g7a",
        "outputId": "33dc7fc0-f2ad-4fda-a177-d52288abc87a"
      },
      "execution_count": 84,
      "outputs": [
        {
          "output_type": "execute_result",
          "data": {
            "text/plain": [
              "array([[0.26963168, 0.44136357, 0.29692084, 0.8316855 , 0.10531491],\n",
              "       [0.26949483, 0.35881263, 0.19936377, 0.54719156, 0.00616044],\n",
              "       [0.95155454, 0.07526588, 0.8860137 , 0.5832096 , 0.33764774],\n",
              "       [0.808975  , 0.5779254 , 0.9039817 , 0.55465984, 0.3423134 ]],\n",
              "      dtype=float32)"
            ]
          },
          "metadata": {},
          "execution_count": 84
        }
      ]
    },
    {
      "cell_type": "code",
      "source": [],
      "metadata": {
        "id": "jGeewfsL4rlB"
      },
      "execution_count": 84,
      "outputs": []
    }
  ]
}